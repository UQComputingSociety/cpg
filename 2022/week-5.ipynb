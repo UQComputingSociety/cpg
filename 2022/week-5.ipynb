{
 "cells": [
  {
   "cell_type": "markdown",
   "id": "3bef99ad",
   "metadata": {},
   "source": [
    "Table of Contents:\n",
    "- [Introduction](#Welcome-to-CPG!)\n",
    "- [Week 5 content](#Week-4-Sorting)\n",
    "- [Crash course in complexity]()\n",
    "- [Complexities of sorting algorithms]()\n",
    "- [Sleep sort!?]()\n",
    "- [Example question]()\n",
    "- [Hackerrank](#hackerrank-competition)"
   ]
  },
  {
   "cell_type": "markdown",
   "id": "078e433b",
   "metadata": {},
   "source": [
    "## Welcome Back to CPG!\n",
    "**Before we start...**\n",
    "\n",
    "If you'd like to follow along for yourself and run the code examples in our presentations, you can clone the repository and open up the Jupyter notebooks locally. Note this means you need to have installed [Jupyter](https://jupyter.org/install) - either JupyterLab or Jupyter Notebook will work fine. In the below example we use JupyterLab:\n",
    "```\n",
    "git clone git@github.com:UQComputingSociety/cpg\n",
    "cd cpg/2022\n",
    "jupyter-lab\n",
    "```"
   ]
  },
  {
   "cell_type": "markdown",
   "id": "fc1d9ef9",
   "metadata": {},
   "source": [
    "## Week 5: Sorting\n",
    "\n",
    "This week's focus will be on sorting. This is an incredibly broad topic but today we will briefly cover the basics."
   ]
  },
  {
   "cell_type": "markdown",
   "id": "29ba8414",
   "metadata": {},
   "source": [
    "## Crash Course in Complexity"
   ]
  },
  {
   "cell_type": "markdown",
   "id": "4deda361",
   "metadata": {},
   "source": [
    "O(...) is a rough estimate of how an algorithm performs as input size increases.\n",
    "\n",
    "O(1) < O(log n) < O(n) < O(n log n) < O(n^2) < O(2^n) < O(n!)\n",
    "\n",
    "![Complexities](assets/week-5/complexity.png)\n",
    "\n",
    "Examples of these complexities in practice:\n",
    "\n",
    "- O(1): lookup table, check if number is odd.\n",
    "- O(log n): binary search (see soon).\n",
    "- O(n): naive search through an array.\n",
    "- O(n log n): fastest sort.\n",
    "- O(n^2): naive two-sum (see soon).\n",
    "- O(2^n): list all combinations of a list.\n",
    "- O(n!): list all permutations of a list."
   ]
  },
  {
   "cell_type": "markdown",
   "id": "24800c1b",
   "metadata": {},
   "source": [
    "## Time/space complexities for sorting algorithms"
   ]
  },
  {
   "cell_type": "markdown",
   "id": "b8c0cbd7",
   "metadata": {},
   "source": [
    "- O(1): lookup table, check if number is odd.\n",
    "- O(log n): binary search (see soon).\n",
    "- O(n): naive search through an array.\n",
    "- O(n log n): fastest sort.\n",
    "- O(n^2): naive two-sum (see soon).\n",
    "- O(2^n): list all combinations of a list.\n",
    "- O(n!): list all permutations of a list."
   ]
  },
  {
   "cell_type": "markdown",
   "id": "e5d079c7",
   "metadata": {},
   "source": [
    "## Sleep sort?!"
   ]
  },
  {
   "cell_type": "markdown",
   "id": "428a9b78",
   "metadata": {},
   "source": [
    "Researchers from Stanford and MIT have unanimously agreed that this is definitely one of the sorting algorithms of all time.\n",
    "\n",
    "It is worth noting that this only works if you have an array which contains non-negative numbers...\n",
    "\n",
    "![Sleep sort](assets/week-5/sleep-sort.jpg)\n",
    "\n",
    "The algorithm works as follows:\n",
    "\n",
    "For every element x in an array, start a new program that:\n",
    "\n",
    "- Sleeps for x seconds\n",
    "- Prints out x\n",
    "- The clock starts on all the elements at the same time.\n",
    "\n",
    "Not all sorting algorithms are created equal..."
   ]
  },
  {
   "cell_type": "markdown",
   "id": "c3138cdd",
   "metadata": {},
   "source": [
    "## Example Question: Sort Colors\n",
    "\n",
    "Also called the Dutch National Flag Problem, proposed by Edsger Dijkstra in 1931.\n",
    "\n",
    "The flag of the Netherlands consists of three colors: red, white, and blue. Given balls of these three colors arranged randomly in a line (it does not matter how many balls there are), the task is to arrange them such that all balls of the same color are together and their collective color groups are in the correct order.\n",
    "\n",
    "We have 3 cases\n",
    "\n",
    "if nums[mid] == 0, we swap nums[mid] with nums[low] and increment both at once\n",
    "if nums[mid] == 1 No swap. We just increment our pointer\n",
    "if nums[mid] == 2 Here, we swap nums[mid] and decrement the high pointer only\n",
    "\n",
    "Why do we increment mid when swapping with a 2 but not when swapping with a 0?\n",
    "\n",
    "When high move it it is sure that values after it are 2, and high can only decrease\n",
    "\n",
    "When low move we are sure that values below it are 0\n",
    "by swapping 0 with nums[low] and moving low by one we are sure that the 0 moved is now at the good place, after the last 0 seen\n",
    "same for 2\n",
    "By putting all 0’s and 2’s at their good places 1’s are obviously at their right places too\n",
    "And when high meet mid we are sure that all next values are 2; and all values before mid are 0 or 1.\n",
    "So everything is sorted and joined\n",
    "\n"
   ]
  },
  {
   "cell_type": "code",
   "execution_count": 15,
   "id": "7b5f9502",
   "metadata": {},
   "outputs": [
    {
     "name": "stdout",
     "output_type": "stream",
     "text": [
      "[0, 0, 0, 1, 1, 1, 1, 2, 2, 2]\n"
     ]
    }
   ],
   "source": [
    "def sortColors(nums) -> None:\n",
    "\tlow = mid = 0\n",
    "\tsize = len(nums)\n",
    "\thigh = size - 1\n",
    "\twhile (mid <= high):\n",
    "\t\tif (nums[mid] == 0):\n",
    "\t\t\tnums[mid],nums[low] = nums[low], nums[mid]\n",
    "\t\t\tlow += 1\n",
    "\t\t\tmid += 1\n",
    "\t\telif (nums[mid] == 2):\n",
    "\t\t\tnums[high], nums[mid] = nums[mid], nums[high]\n",
    "\t\t\thigh -= 1\n",
    "\t\telse:\n",
    "\t\t\tmid += 1\n",
    "\n",
    "inp = [1, 2, 1, 0, 0, 1, 2, 1, 2, 0]\n",
    "sortColors(inp)\n",
    "print(inp)"
   ]
  },
  {
   "cell_type": "markdown",
   "id": "e62241de",
   "metadata": {},
   "source": [
    "## Hackerrank Competition\n",
    "\n",
    "Follow this link to the Hackerrank to begin the mini competition and start solving some searching questions!\n",
    "\n",
    "https://www.hackerrank.com/cpg-230822\n",
    "Example problems pulled from https://usaco.guide/"
   ]
  }
 ],
 "metadata": {
  "kernelspec": {
   "display_name": "Python 3",
   "language": "python",
   "name": "python3"
  },
  "language_info": {
   "codemirror_mode": {
    "name": "ipython",
    "version": 3
   },
   "file_extension": ".py",
   "mimetype": "text/x-python",
   "name": "python",
   "nbconvert_exporter": "python",
   "pygments_lexer": "ipython3",
   "version": "3.9.13"
  },
  "vscode": {
   "interpreter": {
    "hash": "75e32c9b9f9acb3e344044c130a223afc04dfae24d98d8fcafb579bfe6a0a294"
   }
  }
 },
 "nbformat": 4,
 "nbformat_minor": 5
}
