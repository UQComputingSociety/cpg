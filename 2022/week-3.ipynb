{
 "cells": [
  {
   "cell_type": "markdown",
   "id": "0b7b4dd8-07e3-4dff-8e13-2a8bf9b69b42",
   "metadata": {},
   "source": [
    "Table of contents:\n",
    "- [Welcome to CPG!](#Welcome-to-CPG!)\n",
    "- [Why do competitive programming?](#Why-do-competitive-programming?)\n",
    "- [What is (official) competitive programming?](#What-is-(official)-competitive-programming?)\n",
    "- [Question format](#Question-format)\n",
    "- [Example questions](#Example-questions)\n",
    "- [Practicing](#Practicing)\n",
    "- [Questions](#Questions)\n",
    "- [References](#References)"
   ]
  },
  {
   "cell_type": "markdown",
   "id": "88cc6d5a-3ef7-47ff-93d8-da3d5444a869",
   "metadata": {},
   "source": [
    "## Welcome to CPG!\n",
    "\n",
    "The aim of this group is to get practice with programming questions (like those found on LeetCode or HackerRank) and to apply these skills to programming competitions throughout the semester/year, such as\n",
    "\n",
    "- Google Code Jam\n",
    "- Google Kickstart\n",
    "- UQCS Code Jam (!)\n",
    "- Advent of Code\n",
    "\n",
    "and (potentially) also team-based competitions, such as\n",
    "\n",
    "- ANZAC\n",
    "- ICPC (International Collegiate Programming Contest).\n",
    "\n",
    "We meet on a weekly basis to discuss and work through challenging and interesting programming problems, gaining some valuable experience for technical interviews along the way!\n",
    "\n",
    "This semester, we'll be meeting every Tuesday from 4:30pm - 6pm in the ITLC (General Purpose South, 78-217). The first 30 minutes will be dedicated to presenting the content we'll be focusing on for the session, and the last 60 minutes will be left for you to solve problems!\n",
    "\n",
    "**Before we start...**\n",
    "\n",
    "If you'd like to follow along for yourself and run the code examples in our presentations, you can clone the repository and open up the Jupyter notebooks locally. Note this means you need to have installed [Jupyter](https://jupyter.org/install) - either JupyterLab or Jupyter Notebook will work fine. In the below example we use JupyterLab:\n",
    "```\n",
    "git clone git@github.com:UQComputingSociety/cpg\n",
    "cd cpg/2022\n",
    "jupyter-lab\n",
    "```"
   ]
  },
  {
   "cell_type": "raw",
   "id": "3ad3e565-5612-495c-a58b-cf8e23c98b4a",
   "metadata": {},
   "source": [
    "## Why do competitive programming?\n",
    "\n",
    "- Keeps your mind sharp\n",
    "- Efficient way to learn core CS topics (e.g. topics covered in COMP3506)\n",
    "- Lots of programming experience (especially for programming courses like CSSE1001)\n",
    "- Fun!\n",
    "- Practically useful (great for technical interviews)"
   ]
  },
  {
   "cell_type": "markdown",
   "id": "5266ea8c-31d2-4184-9e72-e585c00be9f1",
   "metadata": {},
   "source": [
    "## What is (official) competitive programming?\n",
    "\n",
    "**Main format**:\n",
    "\n",
    "- [International Collegiate Programming Contest](https://icpc.global/) (ICPC) style\n",
    "- 3 people per team, 1 machine\n",
    "- 10-15 problems\n",
    "- 5 hours\n",
    "- Python, C++, Java, or Kotlin\n",
    "\n",
    "**Other formats/competitions**:\n",
    "- [ANZAC contests](https://sppcontests.org/anzac-contests/)\n",
    "- Individual contests\n",
    "- Google CodeJam\n",
    "- Google KickStart\n",
    "- UQCS CodeJam\n",
    "- CodeForces\n",
    "- HackerRank\n",
    "\n",
    "See https://sppregional.org/ and https://www.facebook.com/groups/SPPContest/ for more info"
   ]
  },
  {
   "cell_type": "markdown",
   "id": "ef0b5bc9-183e-40d5-9765-2070b08a13c5",
   "metadata": {},
   "source": [
    "## Question format\n",
    "\n",
    "- **Flavour text**\n",
    "  - Prose description of the problem\n",
    "  - Worth reading as key restrictions and details are put here\n",
    "- **Time and memory limit**\n",
    "  - Used to determine how efficient your solution needs to be (see [Big O notation](https://en.wikipedia.org/wiki/Big_O_notation), [time complexity](https://en.wikipedia.org/wiki/Time_complexity), and [space complexity](https://en.wikipedia.org/wiki/Space_complexity) - we'll cover this later)\n",
    "  - Often a naive solution (first thing that comes to mind, most obvious way to approach the problem) and a quicker solution (requires mroe time to think of, usually more elegant)\n",
    "- **Input and output**\n",
    "  - For python, we use `input()` and `print()` as our standard I/O\n",
    "- **Sample input and output**\n",
    "  - Gives you sample answers and an idea of I/O format"
   ]
  },
  {
   "cell_type": "markdown",
   "id": "d38fdd87-96d6-49e9-9ac6-c88519e0ca84",
   "metadata": {},
   "source": [
    "## Example questions"
   ]
  },
  {
   "cell_type": "markdown",
   "id": "3efdb733-baea-4cdb-b986-423f1349d204",
   "metadata": {},
   "source": [
    "![Example question 1](assets/week-3-ex-problem-1.png)\n",
    "\n",
    "**How to solve?**\n",
    "\n",
    "1. Read in the two values\n",
    "2. Add them and subtract them\n",
    "3. Print out the answers\n",
    "\n",
    "We want to read in the two inputs and save them as variables `a` and `b`. One way to do this is:"
   ]
  },
  {
   "cell_type": "code",
   "execution_count": null,
   "id": "5bff2970-d5c4-4ca8-a144-4af5d3f76bfa",
   "metadata": {},
   "outputs": [],
   "source": [
    "a, b = map(int, input().split())"
   ]
  },
  {
   "cell_type": "markdown",
   "id": "692b2218-2d3b-4db3-a970-c8d8f727b13c",
   "metadata": {
    "tags": []
   },
   "source": [
    "**How does this work?**\n",
    "\n",
    "1. Take sample input 1 for example. `input()` takes in the input as a string: `\"10 2\"`\n",
    "\n",
    "2. `split()` splits the string into a list separated by spaces: `[\"10\", \"2\"]`\n",
    "\n",
    "3. We can then iterate through the list using `map()`, executing `int()` on each element\n",
    "\n",
    "4. Finally, assign the mapping to two variables `a` and `b`\n",
    "\n",
    "Now that we have successfully read in the input, the rest is trivial:"
   ]
  },
  {
   "cell_type": "code",
   "execution_count": null,
   "id": "e0e85272-f6ba-43ea-b01e-64a3effdcadf",
   "metadata": {},
   "outputs": [],
   "source": [
    "print(a+b, a-b)"
   ]
  },
  {
   "cell_type": "markdown",
   "id": "0e1790ca-ffff-4257-8013-c4b8ad879831",
   "metadata": {},
   "source": [
    "![Example question 2](assets/week-3-ex-problem-2.png)\n",
    "\n",
    "**How to solve?**\n",
    "\n",
    "Firstly, the **naive solution**:"
   ]
  },
  {
   "cell_type": "code",
   "execution_count": null,
   "id": "e446dd23-d668-485c-bfb6-7603b48a8c27",
   "metadata": {},
   "outputs": [],
   "source": [
    "n = int(input())\n",
    "out = 0\n",
    "\n",
    "for i in range(1, n+1):\n",
    "    out += i\n",
    "\n",
    "print(out)"
   ]
  },
  {
   "cell_type": "markdown",
   "id": "29b9da5d-f491-40b1-835b-4343483f811d",
   "metadata": {},
   "source": [
    "This is the most straight-forward to approach this problem and is (probably) the first one that came to mind.\n",
    "\n",
    "However, it's not very fast. As the input `n` grows larger and larger, the program has to execute more and more loops, which isn't great. We'd likely hit the time limit for larger values of `n`.\n",
    "\n",
    "A better way to approach this solution would be to find a formula for the sum $1 + ... + n$. Take some time to see if you can find one.\n",
    "\n",
    "A better solution:"
   ]
  },
  {
   "cell_type": "code",
   "execution_count": null,
   "id": "f7d8640c-28f3-4b2f-99ac-fe1e31164aeb",
   "metadata": {},
   "outputs": [],
   "source": [
    "n = int(input()\n",
    "\n",
    "print(n*(n+1) // 2)  # note: use floor division (//) to ensure your output is an int!"
   ]
  },
  {
   "cell_type": "markdown",
   "id": "979000c6-e99b-4027-860a-3dd3ba74ba44",
   "metadata": {},
   "source": [
    "## Practicing\n",
    "\n",
    "Some websites (e.g. LeetCode) will start you off with some code like so:\n",
    "\n",
    "```python\n",
    "class Solution(object):\n",
    "        def twoSum(self, nums, target):\n",
    "            # your code here\n",
    "```\n",
    "\n",
    "**While this is convenient, it's important to learn how to read from/write to input/output and to learn how to parse inputs!**\n",
    "\n",
    "Most contests won't give you the luxury of parsing input for you. It's also generally a useful thing to learn anyway, so you might as well start now. If you'd like to learn a bit more about input/output (including file input/output), you can read a bit more about it [here](https://usaco.guide/general/input-output?lang=py)."
   ]
  },
  {
   "cell_type": "markdown",
   "id": "a905e573-fa68-44d2-91ae-51c823253a0e",
   "metadata": {},
   "source": [
    "## Questions\n",
    "\n",
    "You can start off this week by doing some of these introductory problems. We encourage you to work in groups - it's a very useful skill in competitive programming (and in general) to be able to clearly communicate what you're thinking to others!\n",
    "- [Square Pasture (USACO Bronze, Very Easy)](http://www.usaco.org/index.php?page=viewproblem2&cpid=663)\n",
    "- [The Cow-Signal (USACO Bronze, Easy)](http://www.usaco.org/index.php?page=viewproblem2&cpid=665)\n",
    "- [Speeding (USACO Bronze, Easy)](http://www.usaco.org/index.php?page=viewproblem2&cpid=568)\n",
    "- [The Bovine Shuffle (USACO Bronze, Easy)](http://www.usaco.org/index.php?page=viewproblem2&cpid=760)\n",
    "- [Blocked Billboard II (USACO Bronze, Easy)](http://www.usaco.org/index.php?page=viewproblem2&cpid=783)\n",
    "- [D3C - White Sheet (CodeForces, Normal)](https://codeforces.com/contest/1216/problem/C)\n",
    "- [Block Game (USACO Bronze, Normal)](http://www.usaco.org/index.php?page=viewproblem2&cpid=664)\n",
    "- [Team Tic Tac Toe (USACO Bronze, Normal)](http://www.usaco.org/index.php?page=viewproblem2&cpid=831)\n",
    "- [B. Two Tables (CodeForces, Normal)](https://codeforces.com/problemset/problem/1555/B)\n",
    "- [Milk Measurement (USACO Bronze, Hard)](http://www.usaco.org/index.php?page=viewproblem2&cpid=761)\n",
    "\n",
    "Problems pulled from https://usaco.guide/bronze/rect-geo?lang=cpp and https://usaco.guide/bronze/simulation?lang=cpp.\n",
    "\n",
    "*Note: the difficulties and categories above (bronze, silver, gold, etc.) are based on the USACO guide.*"
   ]
  },
  {
   "cell_type": "markdown",
   "id": "25dc0d20-5ee2-42f2-9933-a32ddf18fc79",
   "metadata": {},
   "source": [
    "## References\n",
    "\n",
    "[Introduction to Competitive Programming slides](https://docs.google.com/presentation/d/1da1D3QWyamfiAGhpiqB7N1K3vCFqK2hiA2eg60J_SvY/)"
   ]
  }
 ],
 "metadata": {
  "kernelspec": {
   "display_name": "Python 3 (ipykernel)",
   "language": "python",
   "name": "python3"
  },
  "language_info": {
   "codemirror_mode": {
    "name": "ipython",
    "version": 3
   },
   "file_extension": ".py",
   "mimetype": "text/x-python",
   "name": "python",
   "nbconvert_exporter": "python",
   "pygments_lexer": "ipython3",
   "version": "3.10.4"
  }
 },
 "nbformat": 4,
 "nbformat_minor": 5
}
