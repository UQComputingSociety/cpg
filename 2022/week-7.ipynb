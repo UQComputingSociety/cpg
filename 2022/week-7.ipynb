{
 "cells": [
  {
   "cell_type": "markdown",
   "metadata": {},
   "source": [
    "## Welcome Back to CPG!\n",
    "**Before we start...**\n",
    "\n",
    "If you'd like to follow along for yourself and run the code examples in our presentations, you can clone the repository and open up the Jupyter notebooks locally. Note this means you need to have installed [Jupyter](https://jupyter.org/install) - either JupyterLab or Jupyter Notebook will work fine. In the below example we use JupyterLab:\n",
    "```\n",
    "git clone git@github.com:UQComputingSociety/cpg\n",
    "cd cpg/2022\n",
    "jupyter-lab\n",
    "```\n",
    "\n",
    "**Heads up - no session next week**\n",
    "\n",
    "High Frequency Networking is on next week, so we'll start up again the week after (week 8)!"
   ]
  },
  {
   "cell_type": "markdown",
   "metadata": {},
   "source": [
    "# Graphs"
   ]
  },
  {
   "cell_type": "markdown",
   "metadata": {},
   "source": [
    "## Introduction to graphs\n",
    "\n",
    "This is what a graph looks like:\n",
    "\n",
    "![graph](assets/week-7/graph.png)\n",
    "\n",
    "At a very basic level, graphs consist of vertices/nodes and edges. Vertices are connected by edges, which may have a direction or not.\n",
    "Graphs consist of vertices (nodes) which are connected by edges.\n",
    "\n",
    "Some example applications of graphs:\n",
    "- Transport systems: bus & train maps, which show you which stops are connected & on what line they operate\n",
    "- Social networks: your friend circles (e.g. on Facebook), which can show you mutual friends, friends of friends, etc.\n",
    "- Website graph: shows which websites a particular website links to/is linked from - see Google's PageRank algorithm"
   ]
  },
  {
   "cell_type": "markdown",
   "metadata": {},
   "source": [
    "## A little history lesson...\n",
    "\n",
    "The first paper on graph theory was published by Euler (no surprises there), and described his solution to the *Seven Bridges* problem. The problem is as follows: is it possible to walk through the city such that each of the bridges is crossed once and only once?\n",
    "\n",
    "![seven-bridges-1](assets/week-7/seven-bridges-1.png)\n",
    "\n",
    "**SOLUTION**: no! This is not possible. Euler solved this by first noting that the route chosen to travel between landmasses wasn't important - only the sequence of bridges crossed. There are only two relevant pieces of information here: the landmasses themselves, and the bridges between each landmass (specifically the number of bridges). This allowed Euler to abstract the problem into a series of nodes and edges (a graph!), with the nodes representing the landmasses and the edges representing the bridges between the landmasses:\n",
    "\n",
    "![seven-bridges-2](assets/week-7/seven-bridges-2.png)\n",
    "\n",
    "We know that a solution is possible if we can start from any node and walk along every single edge once. Euler's reasoning was as follows: if we visit a landmass, we must also leave it, unless it is the starting or ending landmass. That means each landmass, except for the starting and ending ones, must have an even number of bridges. Looking at the graph again, note that every single node has an odd number of bridges, which means that there is no way we can cross each bridge only once.\n",
    "\n",
    "Using proper terminology:\n",
    "- This is a problem dealing with *paths* - sequences of edges that connect a sequence of nodes.\n",
    "- We wanted to find a path through a graph such that each edge is visited exactly once - this is called an *Eulerian path/walk*\n",
    "- A path that starts and ends at the same node is called an *Eulerian circuit*\n",
    "- The number of edges connected to a node is called the *degree* of that node - in this case, we require that all nodes except for the starting and ending node be of even degree."
   ]
  },
  {
   "cell_type": "markdown",
   "metadata": {},
   "source": [
    "## Example Question: Grass Planting\n",
    "\n",
    "It's the time of year for Farmer John to plant grass in all of his fields. The entire farm consists of $N$ fields ($1 \\leq N \\leq 105$), conveniently numbered $1\\dots N$ and conveniently connected by $N−1$ bidirectional pathways in such a way that every field can reach every other field via some collection of pathways.\n",
    "Farmer John can potentially plant a different type of grass in each field, but he wants to minimize the number of grass types he uses in total, since the more types of grass he uses, the more expense he incurs.\n",
    "\n",
    "Unfortunately, his cows have grown rather snobbish about their selection of grass on the farm. If the same grass type is planted in two adjacent fields (directly connected by a pathway) or even two nearly-adjacent fields (both directly connected to a common field with pathways), then the cows will complain about lack of variety in their dining options. The last thing Farmer John needs is complaining cows, given how much mischief they have been known to create when dissatisfied.\n",
    "\n",
    "Please help Farmer John determine the minimum number of types of grass he needs for his entire farm.\n",
    "\n",
    "**INPUT FORMAT (file planting.in)**:\\\n",
    "The first line of input contains $N$. Each of the remaining $N−1$ lines describes a pathway in terms of the two fields it connects.\n",
    "\n",
    "**OUTPUT FORMAT (file planting.out)**:\\\n",
    "Print the minimum number of types of grass that Farmer John needs to use.\n",
    "\n",
    "**SAMPLE INPUT**:\\\n",
    "4\\\n",
    "1 2\\\n",
    "4 3\\\n",
    "2 3\n",
    "\n",
    "**SAMPLE OUTPUT**:\\\n",
    "3\n",
    "\n",
    "In this simple example, there are 4 fields all connected in a linear fashion. A minimum of three grass types are needed. For example, Farmer John could plant the fields with grass types A, B, and C as A - B - C - A."
   ]
  },
  {
   "cell_type": "markdown",
   "metadata": {},
   "source": [
    "**SOLUTION**: in this example we only need to consider each field one at a time. If we consider just a single node `i`, we will need `degree(i) + 1` grass types - 1 for the node itslf and `degree(i)` for each node that it is connected to. This accounts for adjacent fields AND nearly-adjacent fields being of different type. If each field requires `degree(i) + 1`, then we need at least `max(degree(i)) + 1 = d + 1` grass types.\n",
    "\n",
    "This is actually also sufficient! We can think of the graph as a tree, let the root node be some random node, and give it the first grass type. The root has at most $d$ children, so they can all be given unique grass types in $2, \\dots, d + 1$. So we have at most $d$ child subtrees where each of the roots has been assigned a grass type. We can repeat this process for each of the child subtrees, taking care to avoid the colour of the grandparent root node in each case - which we can do because each subsequent node will have only at most $d - 1$ children.\n",
    "\n",
    "Implementation:"
   ]
  },
  {
   "cell_type": "code",
   "execution_count": null,
   "metadata": {},
   "outputs": [],
   "source": [
    "num_fields = int(input())\n",
    "degrees = [0] * num_fields  # node i will correspond to degrees[i-1]\n",
    "\n",
    "for _ in range(num_fields - 1):  # loop over the following N-1 fields\n",
    "        field1, field2 = map(int, input().split())\n",
    "        degrees[field1 - 1] += 1\n",
    "        degrees[field2 - 1] += 1\n",
    "        \n",
    "print(max(degrees) + 1)"
   ]
  },
  {
   "cell_type": "markdown",
   "metadata": {},
   "source": [
    "## HackerRank Competition\n",
    "\n",
    "Follow this link to the Hackerrank to begin the mini competition and start solving some graph questions!\n",
    "\n",
    "https://www.hackerrank.com/cpg-230822"
   ]
  },
  {
   "cell_type": "code",
   "execution_count": null,
   "metadata": {},
   "outputs": [],
   "source": []
  }
 ],
 "metadata": {
  "kernelspec": {
   "display_name": "Python 3 (ipykernel)",
   "language": "python",
   "name": "python3"
  },
  "language_info": {
   "codemirror_mode": {
    "name": "ipython",
    "version": 3
   },
   "file_extension": ".py",
   "mimetype": "text/x-python",
   "name": "python",
   "nbconvert_exporter": "python",
   "pygments_lexer": "ipython3",
   "version": "3.10.4"
  },
  "vscode": {
   "interpreter": {
    "hash": "916dbcbb3f70747c44a77c7bcd40155683ae19c65e1c03b4aa3499c5328201f1"
   }
  }
 },
 "nbformat": 4,
 "nbformat_minor": 4
}
