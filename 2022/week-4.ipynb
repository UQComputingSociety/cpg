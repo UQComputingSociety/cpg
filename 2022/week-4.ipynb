{
 "cells": [
  {
   "cell_type": "markdown",
   "id": "49a1b206",
   "metadata": {},
   "source": [
    "Table of Contents:\n",
    "- [Welcome back to CPG!](#Welcome-to-CPG!)\n",
    "- [Week 4 content](#Week-4-Searching)\n",
    "- [Complete search](#complete-search)\n",
    "- [Binary search](#binary-search)\n",
    "- [Two-pointers](#two-pointers)\n",
    "- [Hackerrank](#hackerrank-competition)"
   ]
  },
  {
   "cell_type": "markdown",
   "id": "d25b5ad1",
   "metadata": {},
   "source": [
    "## Welcome Back to CPG!\n",
    "**Before we start...**\n",
    "\n",
    "If you'd like to follow along for yourself and run the code examples in our presentations, you can clone the repository and open up the Jupyter notebooks locally. Note this means you need to have installed [Jupyter](https://jupyter.org/install) - either JupyterLab or Jupyter Notebook will work fine. In the below example we use JupyterLab:\n",
    "```\n",
    "git clone git@github.com:UQComputingSociety/cpg\n",
    "cd cpg/2022\n",
    "jupyter-lab\n",
    "```"
   ]
  },
  {
   "cell_type": "code",
   "execution_count": 2,
   "id": "e248dce4",
   "metadata": {},
   "outputs": [],
   "source": [
    "import os\n",
    "os.chdir(\"assets/week-4/\")"
   ]
  },
  {
   "cell_type": "markdown",
   "id": "5ad834ef",
   "metadata": {},
   "source": [
    "## Week 4: Searching\n",
    "\n",
    "This week's focus is on a very important skill: searching. You may be wondering why we have decided to split the week 4 and week 5 topics of searching and sorting respectively rather than keep them together. The answer is because both of these skills, in particular sorting but searching as well, are extremely dense and it is better if we hone each of these skills individually before incorporating them together.\n",
    "\n",
    "For now, simply consider 'sorting' as an operation that *may* be useful and can be used to solve problems. Don't focus too much on the methods of sorting used unless you are already familiar with that.\n",
    "\n",
    "This week we will cover three types of searching algorithms:\n",
    "- complete search\n",
    "- binary search\n",
    "- two-pointers"
   ]
  },
  {
   "cell_type": "markdown",
   "id": "49304402",
   "metadata": {},
   "source": [
    "## Complete Search"
   ]
  },
  {
   "cell_type": "markdown",
   "id": "77d9264d",
   "metadata": {},
   "source": [
    "In many problems it suffices to check all possible cases in the solution space, whether it be all elements, all pairs of elements, or all subsets, or all permutations. Unsurprisingly, this is called complete search (or brute force), because it completely searches the entire solution space.\n",
    "\n",
    "Linear search is an example of this with $O(n)$ runtime complexity. This is because the entire input length of the array (n) must be searched in the worst case."
   ]
  },
  {
   "cell_type": "markdown",
   "id": "5f727dee",
   "metadata": {},
   "source": [
    "## Example Question 1: Daisy Chains"
   ]
  },
  {
   "cell_type": "markdown",
   "id": "24d9ac84",
   "metadata": {},
   "source": [
    "![Example question 1](assets/week-4/daisy-chains.png)\n",
    "\n",
    "\n",
    "**How to solve?**\n",
    "\n",
    "- Consider small range of inputs, indicating brute force/complete search may be an option\n",
    "\n",
    "- The $(i, j)$ pairs should give you the hint that this can be solved in $O(n^2)$ time. Although this is usually not ideal,\n",
    "the input length only goes up to 100 so a complete search of the solution space is possible.\n",
    "\n",
    "- For each possible start flower i, iterate over every possible end flower j. Calculate the average petals in this range\n",
    "and add flowers that contain this many petals in the range i to j to the count.\n"
   ]
  },
  {
   "cell_type": "code",
   "execution_count": 3,
   "id": "e4c22f7e",
   "metadata": {},
   "outputs": [
    {
     "name": "stdout",
     "output_type": "stream",
     "text": [
      "6\n"
     ]
    }
   ],
   "source": [
    "fout = open('output.txt', \"w\")\n",
    "fin = open('input/daisy-chains.in', 'r')\n",
    "input = fin.readline\n",
    "\n",
    "n = int(input())\n",
    "flowers = list(map(int, input().split()))\n",
    "ans = 0\n",
    "\t\n",
    "for i in range(n):\n",
    "\tfor j in range(i, n):\n",
    "\t\t# find average petals in the range i - j\n",
    "\t\tavg_petals = sum(flowers[i:j + 1]) / len(flowers[i:j + 1])\n",
    "\n",
    "\t\tfor index in range(i, j + 1):\n",
    "\t\t\tif flowers[index] == avg_petals:\n",
    "\t\t\t\t# we found an average flower\n",
    "\t\t\t\tans += 1\n",
    "\t\t\t\tbreak\n",
    "print(ans)\n",
    "print(ans, file=fout)\n",
    "\n",
    "fout.close()"
   ]
  },
  {
   "cell_type": "markdown",
   "id": "49304402",
   "metadata": {},
   "source": [
    "## Binary Search"
   ]
  },
  {
   "cell_type": "markdown",
   "id": "a195d766",
   "metadata": {},
   "source": [
    "Say you have a list\n",
    "\n",
    "[1, 2, 3, 4, 10, 8, 7, 9, 2, 5]\n",
    "How do I find 7? No way to do so easily. I have to iterate over the whole list. This is $O(n)$ for a list of length n, so not ideal.\n",
    "\n",
    "Instead, what if we sort through the list?\n",
    "\n",
    "[1, 2, 2, 3, 4, 5, 7, 8, 9, 10]\n",
    "...and then go to the middle, and split the list in two based on whether the middle number is bigger or smaller (or equal, in which case we stop)?\n",
    "\n",
    "Note: We don't actually need to split the list, we can just adjust our bounds. See below implementation\n",
    "\n",
    "[1, 2, 2, 3, 4] [5, 7, 8, 9, 10]\n",
    "[5, 7, 8] [9, 10]\n",
    "middle = 7\n",
    "Here it took us only two steps to find 7, whereas above it took us 7!\n",
    "\n",
    "Binary search is $O(log n)$. This is faster than $O(n)$."
   ]
  },
  {
   "cell_type": "markdown",
   "id": "88f250de",
   "metadata": {},
   "source": [
    "## Example Question 2: Counting Haybales"
   ]
  },
  {
   "cell_type": "markdown",
   "id": "2776bf76",
   "metadata": {},
   "source": [
    "![Example question 2](assets/week-4/haybales.png)\n",
    "\n",
    "**How to solve?**\n",
    "\n",
    "- We know there are n haybales and q queries.\n",
    "- For each query we know we could do a complete search to try and find the number of haybales in the interval\n",
    "- Why not? The search space is too large- up to a billion spots that each haybale can be placed!\n",
    "- Use binary search to shorten the time to solve each query\n",
    "\n",
    "We need to find the amount of haybales stored in each interval for each query. Using two binary searches we can find the number of \n",
    "haybales that are placed before the start and before the end of each query's interval, and then subtract to find the difference."
   ]
  },
  {
   "cell_type": "code",
   "execution_count": 4,
   "id": "d96c25f9",
   "metadata": {},
   "outputs": [
    {
     "name": "stdout",
     "output_type": "stream",
     "text": [
      "2\n",
      "2\n",
      "3\n",
      "4\n",
      "1\n",
      "0\n"
     ]
    }
   ],
   "source": [
    "fout = open(\"output.txt\", \"w\")\n",
    "fin = open('input/haybales.in', 'r')\n",
    "input = fin.readline\n",
    "\n",
    "def at_most(x: int) -> int:\n",
    "\tlo = 0\n",
    "\thi = len(bales)\n",
    "\twhile lo < hi:\n",
    "\t\tmid = (lo + hi) // 2\n",
    "\t\tif bales[mid] <= x:\n",
    "\t\t\tlo = mid + 1\n",
    "\t\telse:\n",
    "\t\t\thi = mid\n",
    "\treturn lo\n",
    "\n",
    "\n",
    "bale_num, query_num = map(int, input().split())\n",
    "bales = sorted(list(map(int, input().split())))\n",
    "for _ in range(query_num):\n",
    "\tstart, end = map(int, input().split())\n",
    "\tans = at_most(end) - at_most(start - 1)\n",
    "\tprint(ans)\n",
    "\tprint(ans, file=fout)\n",
    "\t\n",
    "fout.close()"
   ]
  },
  {
   "cell_type": "markdown",
   "id": "49304402",
   "metadata": {},
   "source": [
    "## Two-pointers"
   ]
  },
  {
   "cell_type": "markdown",
   "id": "fcd18bf6",
   "metadata": {},
   "source": [
    "The two pointers method iterates two pointers across an array, to track the start and end of an interval. It can be useful to reduce time complexity of certain searches from $O(n^2)$ down to $O(n)$, as each pointer will move at most n times.\n",
    "\n",
    "This type of algorithm can be applied to many problems, and it is best explained using an example."
   ]
  },
  {
   "cell_type": "markdown",
   "id": "ac6679ba",
   "metadata": {},
   "source": [
    "## Example Question 3: Books"
   ]
  },
  {
   "cell_type": "markdown",
   "id": "09f4100e",
   "metadata": {},
   "source": [
    "![Example question 2](assets/week-4/books.png)\n",
    "\n",
    "**How to solve?**\n",
    "\n",
    "We want to find the longest contiguous segment of books that can be read within $t$ minutes.\n",
    "\n",
    "To accomplish this, we can define $\\texttt{left}$ and $\\texttt{right}$ to represent the beginning and end of the segment. Both will start at the beginning of the array. These numbers can be thought of as pointers, hence the name \"two pointers.\"\n",
    "\n",
    "For every value of $\\texttt{left}$ in increasing order, let's increase $\\texttt{right}$ until the total time for the segment is maximized while being less than or equal to $t$.\n",
    "\n",
    "$\\texttt{ans}$ will store the maximum value of $\\texttt{right} - \\texttt{left}+1$ (segment size) that we have encountered so far.\n",
    "\n",
    "After incrementing $\\texttt{left}$ by one, the time used decreases, hence the right pointer never has to move leftwards. \n",
    "\n",
    "You can visualize these pointers as maintaining a sliding window of books for this problem."
   ]
  },
  {
   "cell_type": "code",
   "execution_count": null,
   "id": "d354c5fb",
   "metadata": {},
   "outputs": [],
   "source": [
    "fout = open(\"output.txt\", \"w\")\n",
    "fin = open('input/books.in', 'r')\n",
    "input = fin.readline\n",
    "\n",
    "n, t = map(int, input().split())\n",
    "\n",
    "books = [int(b) for b in input().split()]\n",
    "\n",
    "right = 0\n",
    "left = 0\n",
    "cur = 0\n",
    "ans = 0\n",
    "\n",
    "while left < n and right < n:\n",
    "\t# Finding the maximum right for which cur is less than t.\n",
    "\twhile right < n:\n",
    "\t\tcur += books[right]\n",
    "\t\tright += 1\n",
    "\n",
    "\t\t# Subtracting the exceeded book from cur.\n",
    "\t\tif cur > t:\n",
    "\t\t\tright -= 1\n",
    "\t\t\tcur -= books[right]\n",
    "\t\t\tbreak\n",
    "\t\n",
    "\tans = max(ans, right - left)\n",
    "\tcur -= books[left]\n",
    "\tleft += 1\n",
    "\n",
    "print(ans)\n",
    "print(ans, file=fout)\n",
    "fout.close()\n"
   ]
  },
  {
   "cell_type": "markdown",
   "id": "7f7b4339",
   "metadata": {},
   "source": [
    "## Hackerrank Competition\n",
    "\n",
    "Follow this link to the Hackerrank to begin the mini competition and start solving some searching questions!\n",
    "\n",
    "https://www.hackerrank.com/cpg-16082022\n",
    "\n",
    "Example problems pulled from https://usaco.guide/"
   ]
  }
 ],
 "metadata": {
  "kernelspec": {
   "display_name": "Python 3",
   "language": "python",
   "name": "python3"
  },
  "language_info": {
   "codemirror_mode": {
    "name": "ipython",
    "version": 3
   },
   "file_extension": ".py",
   "mimetype": "text/x-python",
   "name": "python",
   "nbconvert_exporter": "python",
   "pygments_lexer": "ipython3",
   "version": "3.9.13"
  },
  "vscode": {
   "interpreter": {
    "hash": "75e32c9b9f9acb3e344044c130a223afc04dfae24d98d8fcafb579bfe6a0a294"
   }
  }
 },
 "nbformat": 4,
 "nbformat_minor": 5
}
